{
 "cells": [
  {
   "cell_type": "code",
   "execution_count": 1,
   "id": "343c695c",
   "metadata": {},
   "outputs": [
    {
     "name": "stdout",
     "output_type": "stream",
     "text": [
      "Enter no of page = 1000\n"
     ]
    },
    {
     "name": "stderr",
     "output_type": "stream",
     "text": [
      "C:\\Users\\Anand\\anaconda3\\lib\\site-packages\\bs4\\__init__.py:404: MarkupResemblesLocatorWarning: The input looks more like a URL than markup. You may want to use an HTTP client like requests to get the document behind the URL, and feed that document to Beautiful Soup.\n",
      "  warnings.warn(\n"
     ]
    }
   ],
   "source": [
    "from bs4 import BeautifulSoup\n",
    "import requests\n",
    "category = ['political','social','market','entertainment','sports','view','blog','International']\n",
    "n = int(input(\"Enter no of page = \"))\n",
    "news_df = {'Category':[],'Link':[],'News':[]}\n",
    "for i in range(1,n+1):\n",
    "    for cat in category:\n",
    "        url = BeautifulSoup(f'https://en.setopati.com/{cat}?page={i}', 'html.parser')\n",
    "        data = requests.get(url)\n",
    "        news_code = BeautifulSoup(data.text, \"lxml\")\n",
    "        for link in news_code.find_all('a'):\n",
    "            if f\"{cat}/\" in link.get('href'):\n",
    "                news_df['Link'].append(link.get('href'))\n",
    "                news_df['Category'].append(cat)"
   ]
  },
  {
   "cell_type": "code",
   "execution_count": null,
   "id": "145d59d1",
   "metadata": {},
   "outputs": [],
   "source": [
    "news_df['News']\n",
    "for i in news_df['Link']:\n",
    "    url = BeautifulSoup(i, 'html.parser')\n",
    "    data = requests.get(url)\n",
    "    news_code = BeautifulSoup(data.text, \"lxml\")\n",
    "    try:\n",
    "        final_new =news_code.find('div', class_='editor-box').text\n",
    "        news_df['News'].append(final_new)\n",
    "    except:\n",
    "        news_df['News'].append(\"NAN\")       \n",
    "news_df"
   ]
  },
  {
   "cell_type": "code",
   "execution_count": 2,
   "id": "550da462",
   "metadata": {},
   "outputs": [
    {
     "name": "stdout",
     "output_type": "stream",
     "text": [
      "31960\n"
     ]
    }
   ],
   "source": [
    "print(len(news_df['Link']))"
   ]
  },
  {
   "cell_type": "code",
   "execution_count": 8,
   "id": "1ff02aa5",
   "metadata": {},
   "outputs": [],
   "source": [
    "df.to_csv('setopati_news.csv')"
   ]
  },
  {
   "cell_type": "code",
   "execution_count": 16,
   "id": "c60e45fb",
   "metadata": {},
   "outputs": [
    {
     "name": "stderr",
     "output_type": "stream",
     "text": [
      "[nltk_data] Downloading package stopwords to\n",
      "[nltk_data]     C:\\Users\\Anand\\AppData\\Roaming\\nltk_data...\n",
      "[nltk_data]   Package stopwords is already up-to-date!\n"
     ]
    }
   ],
   "source": [
    "import numpy as np \n",
    "import pandas as pd\n",
    "import re,string\n",
    "import matplotlib.pyplot as plt\n",
    "from nltk.corpus import stopwords\n",
    "from nltk.stem import PorterStemmer\n",
    "from sklearn.feature_extraction.text import TfidfVectorizer\n",
    "from sklearn.pipeline import Pipeline\n",
    "from sklearn.metrics import classification_report, confusion_matrix\n",
    "from sklearn.model_selection import train_test_split\n",
    "from sklearn.feature_selection import SelectKBest, chi2\n",
    "from sklearn.ensemble import RandomForestClassifier\n",
    "import pickle\n",
    "import nltk\n",
    "nltk.download('stopwords')\n",
    "%matplotlib inline"
   ]
  },
  {
   "cell_type": "code",
   "execution_count": 17,
   "id": "a30b568c",
   "metadata": {},
   "outputs": [
    {
     "data": {
      "text/html": [
       "<div>\n",
       "<style scoped>\n",
       "    .dataframe tbody tr th:only-of-type {\n",
       "        vertical-align: middle;\n",
       "    }\n",
       "\n",
       "    .dataframe tbody tr th {\n",
       "        vertical-align: top;\n",
       "    }\n",
       "\n",
       "    .dataframe thead th {\n",
       "        text-align: right;\n",
       "    }\n",
       "</style>\n",
       "<table border=\"1\" class=\"dataframe\">\n",
       "  <thead>\n",
       "    <tr style=\"text-align: right;\">\n",
       "      <th></th>\n",
       "      <th>Unnamed: 0</th>\n",
       "      <th>Category</th>\n",
       "      <th>Link</th>\n",
       "      <th>News</th>\n",
       "    </tr>\n",
       "  </thead>\n",
       "  <tbody>\n",
       "    <tr>\n",
       "      <th>0</th>\n",
       "      <td>0</td>\n",
       "      <td>political</td>\n",
       "      <td>https://en.setopati.com/political/160818</td>\n",
       "      <td>\\nRastriya Swatantra Party (RSP) has removed D...</td>\n",
       "    </tr>\n",
       "    <tr>\n",
       "      <th>1</th>\n",
       "      <td>1</td>\n",
       "      <td>political</td>\n",
       "      <td>https://en.setopati.com/political/160818</td>\n",
       "      <td>\\nRastriya Swatantra Party (RSP) has removed D...</td>\n",
       "    </tr>\n",
       "    <tr>\n",
       "      <th>2</th>\n",
       "      <td>2</td>\n",
       "      <td>political</td>\n",
       "      <td>https://en.setopati.com/political/160836</td>\n",
       "      <td>\\nCPN (Unified Socialist) Chief Whip Met Mani ...</td>\n",
       "    </tr>\n",
       "    <tr>\n",
       "      <th>3</th>\n",
       "      <td>3</td>\n",
       "      <td>political</td>\n",
       "      <td>https://en.setopati.com/political/160835</td>\n",
       "      <td>\\nCPN-UML Chairman is suffering from fever and...</td>\n",
       "    </tr>\n",
       "    <tr>\n",
       "      <th>4</th>\n",
       "      <td>4</td>\n",
       "      <td>political</td>\n",
       "      <td>https://en.setopati.com/political/160833</td>\n",
       "      <td>\\nNarayan Prakash (NP) Saud has been sworn in ...</td>\n",
       "    </tr>\n",
       "  </tbody>\n",
       "</table>\n",
       "</div>"
      ],
      "text/plain": [
       "   Unnamed: 0   Category                                      Link  \\\n",
       "0           0  political  https://en.setopati.com/political/160818   \n",
       "1           1  political  https://en.setopati.com/political/160818   \n",
       "2           2  political  https://en.setopati.com/political/160836   \n",
       "3           3  political  https://en.setopati.com/political/160835   \n",
       "4           4  political  https://en.setopati.com/political/160833   \n",
       "\n",
       "                                                News  \n",
       "0  \\nRastriya Swatantra Party (RSP) has removed D...  \n",
       "1  \\nRastriya Swatantra Party (RSP) has removed D...  \n",
       "2  \\nCPN (Unified Socialist) Chief Whip Met Mani ...  \n",
       "3  \\nCPN-UML Chairman is suffering from fever and...  \n",
       "4  \\nNarayan Prakash (NP) Saud has been sworn in ...  "
      ]
     },
     "execution_count": 17,
     "metadata": {},
     "output_type": "execute_result"
    }
   ],
   "source": [
    "import pandas as pd\n",
    "data = pd.read_csv('setopati_news.csv')\n",
    "data.head()"
   ]
  },
  {
   "cell_type": "code",
   "execution_count": 18,
   "id": "f84fe363",
   "metadata": {},
   "outputs": [
    {
     "data": {
      "text/plain": [
       "<bound method DataFrame.info of        Unnamed: 0       Category  \\\n",
       "0               0      political   \n",
       "1               1      political   \n",
       "2               2      political   \n",
       "3               3      political   \n",
       "4               4      political   \n",
       "...           ...            ...   \n",
       "31955       31955           view   \n",
       "31956       31956           blog   \n",
       "31957       31957           blog   \n",
       "31958       31958  International   \n",
       "31959       31959  International   \n",
       "\n",
       "                                               Link  \\\n",
       "0          https://en.setopati.com/political/160818   \n",
       "1          https://en.setopati.com/political/160818   \n",
       "2          https://en.setopati.com/political/160836   \n",
       "3          https://en.setopati.com/political/160835   \n",
       "4          https://en.setopati.com/political/160833   \n",
       "...                                             ...   \n",
       "31955           https://en.setopati.com/view/157157   \n",
       "31956           https://en.setopati.com/blog/157721   \n",
       "31957           https://en.setopati.com/blog/157721   \n",
       "31958  https://en.setopati.com/International/159229   \n",
       "31959  https://en.setopati.com/International/159229   \n",
       "\n",
       "                                                    News  \n",
       "0      \\nRastriya Swatantra Party (RSP) has removed D...  \n",
       "1      \\nRastriya Swatantra Party (RSP) has removed D...  \n",
       "2      \\nCPN (Unified Socialist) Chief Whip Met Mani ...  \n",
       "3      \\nCPN-UML Chairman is suffering from fever and...  \n",
       "4      \\nNarayan Prakash (NP) Saud has been sworn in ...  \n",
       "...                                                  ...  \n",
       "31955  \\nIndustry Minister Gajendra Hamal has resigne...  \n",
       "31956  \\nThe Nepal Academy has recently published pho...  \n",
       "31957  \\nThe Nepal Academy has recently published pho...  \n",
       "31958  \\nPresident Xi JInping warned against meddling...  \n",
       "31959  \\nPresident Xi JInping warned against meddling...  \n",
       "\n",
       "[31960 rows x 4 columns]>"
      ]
     },
     "execution_count": 18,
     "metadata": {},
     "output_type": "execute_result"
    }
   ],
   "source": [
    "data.info"
   ]
  },
  {
   "cell_type": "code",
   "execution_count": 20,
   "id": "07ee7139",
   "metadata": {},
   "outputs": [
    {
     "name": "stdout",
     "output_type": "stream",
     "text": [
      "31960\n",
      "31960\n",
      "31960\n"
     ]
    }
   ],
   "source": [
    "print(len(data['Link']))\n",
    "print(len(data['News']))\n",
    "print(len(data['Category']))"
   ]
  },
  {
   "cell_type": "code",
   "execution_count": 22,
   "id": "7a7b77bb",
   "metadata": {},
   "outputs": [
    {
     "data": {
      "text/plain": [
       "Unnamed: 0    0\n",
       "Category      0\n",
       "Link          0\n",
       "News          0\n",
       "dtype: int64"
      ]
     },
     "execution_count": 22,
     "metadata": {},
     "output_type": "execute_result"
    }
   ],
   "source": [
    "data.isnull().sum()"
   ]
  },
  {
   "cell_type": "code",
   "execution_count": 3,
   "id": "8807d1c5",
   "metadata": {},
   "outputs": [
    {
     "data": {
      "text/plain": [
       "\"\\nRastriya Swatantra Party (RSP) has removed Dhaka Kumar Shrestha from lawmaker and party member after the audio recording of a phone conversation alleged to be between him and businessman Durga Prasai.\\nThe party’s central committee meeting held on Wednesday has decided to punish Shrestha after audio recording of him purportedly demanding Rs 20 million from promoter of B&C Medical College Durga Prasai was made public.\\nTalking to reporters after the meeting RSP President Lamichhane said that Shrestha was removed after finding enough grounds to punish him despite him denying that the voice on the audio was not his.\\nKapurbot Media on Sunday had published audio recording of what it claims is the deal between Shrestha and Prasai.\\nShrestha, who was elected to the House of Representatives (HoR) through the Proportional Representation electoral system, can be heard telling Prasai that the amount was needed to give to RSP President Rabi Lamichhane’s men for Shrestha to become health minister.\\nThe conversation took place at the start of January, as Prasai informs in the audio, when RSP was negotiating in the then ruling coalition also including CPN-UML to get the Health Ministry. Shrestha can be heard telling Prasai that Lamichhane would make him heath minister only if he hands over Rs 20-25 million to Lamichhane's men.\\nLamichhane also revealed that Shrestha threatened the party’s discipline committee to finish RSP if he were punished. “He has been repeatedly changing his version. His guilt was proven also because the audio was recorded in January. He was allowed to present his version (in the party) repeatedly,” Lamichhane stated. “He also wished that he were not removed but also warned that he would show the party if he were punished.”\\nHe claimed that he did not know who Shrestha was referring to as his men in the ‘core team’ in the audio recording. “Why not punish if facts are uncovered about the core team? He has now come to one level of bargaining. What should be known is we will assist the CIAA,” Lamichhane stressed.\\nLamichhane added that Shrestha had the option of appealing with the party if he were not satisfied with the decision to punish him.\\nThe party had suspended Shrestha immediately after the audio recording was made public and instructed the central discipline and conduct committee to investigate facts about the telephone conversation and submit the report to the central committee within three days.\\nRSP has also decided to send acid attack victim Bindabasini Kansakar as HoR member through the PR electoral system to replace Shrestha.\\n\""
      ]
     },
     "execution_count": 3,
     "metadata": {},
     "output_type": "execute_result"
    }
   ],
   "source": [
    "data['News'][0]"
   ]
  },
  {
   "cell_type": "code",
   "execution_count": 4,
   "id": "3a3e1ce0",
   "metadata": {},
   "outputs": [
    {
     "data": {
      "image/png": "[encoded data removed]",
      "text/plain": [
       "<Figure size 640x480 with 1 Axes>"
      ]
     },
     "metadata": {},
     "output_type": "display_data"
    }
   ],
   "source": [
    "import matplotlib.pyplot as plt\n",
    "#Analyzing data\n",
    "data.groupby('Category').News.count().plot.bar(ylim=0)\n",
    "plt.show()"
   ]
  },
  {
   "cell_type": "code",
   "execution_count": 5,
   "id": "3f5d21e5",
   "metadata": {},
   "outputs": [
    {
     "data": {
      "text/plain": [
       "Category\n",
       "International     2554\n",
       "blog              2090\n",
       "entertainment      141\n",
       "market            1000\n",
       "political        11574\n",
       "social           10444\n",
       "sports            2068\n",
       "view              2089\n",
       "Name: News, dtype: int64"
      ]
     },
     "execution_count": 5,
     "metadata": {},
     "output_type": "execute_result"
    }
   ],
   "source": [
    "x = data.groupby('Category').News.count()\n",
    "x"
   ]
  },
  {
   "cell_type": "code",
   "execution_count": 6,
   "id": "f1d80977",
   "metadata": {},
   "outputs": [
    {
     "name": "stderr",
     "output_type": "stream",
     "text": [
      "[nltk_data] Downloading package stopwords to\n",
      "[nltk_data]     C:\\Users\\Anand\\AppData\\Roaming\\nltk_data...\n",
      "[nltk_data]   Package stopwords is already up-to-date!\n"
     ]
    }
   ],
   "source": [
    "#cleaning dataset\n",
    "nltk.download('stopwords')\n",
    "stemmer = PorterStemmer()\n",
    "words = stopwords.words(\"english\")\n",
    "data['cleaned'] = data['News'].apply(lambda x: \" \".join([stemmer.stem(i) for i in re.sub(\"[^a-zA-Z]\", \" \", x).split() if i not in words]).lower())"
   ]
  },
  {
   "cell_type": "code",
   "execution_count": 7,
   "id": "efff8b1b",
   "metadata": {},
   "outputs": [
    {
     "data": {
      "text/plain": [
       "'rastriya swatantra parti rsp remov dhaka kumar shrestha lawmak parti member audio record phone convers alleg businessman durga prasai the parti central committe meet held wednesday decid punish shrestha audio record purportedli demand rs million promot b c medic colleg durga prasai made public talk report meet rsp presid lamichhan said shrestha remov find enough ground punish despit deni voic audio kapurbot media sunday publish audio record claim deal shrestha prasai shrestha elect hous repres hor proport represent elector system heard tell prasai amount need give rsp presid rabi lamichhan men shrestha becom health minist the convers took place start januari prasai inform audio rsp negoti rule coalit also includ cpn uml get health ministri shrestha heard tell prasai lamichhan would make heath minist hand rs million lamichhan men lamichhan also reveal shrestha threaten parti disciplin committe finish rsp punish he repeatedli chang version hi guilt proven also audio record januari he allow present version parti repeatedli lamichhan state he also wish remov also warn would show parti punish he claim know shrestha refer men core team audio record whi punish fact uncov core team he come one level bargain what known assist ciaa lamichhan stress lamichhan ad shrestha option appeal parti satisfi decis punish the parti suspend shrestha immedi audio record made public instruct central disciplin conduct committe investig fact telephon convers submit report central committe within three day rsp also decid send acid attack victim bindabasini kansakar hor member pr elector system replac shrestha'"
      ]
     },
     "execution_count": 7,
     "metadata": {},
     "output_type": "execute_result"
    }
   ],
   "source": [
    "data['cleaned'][0]"
   ]
  },
  {
   "cell_type": "code",
   "execution_count": 8,
   "id": "458186a3",
   "metadata": {},
   "outputs": [
    {
     "name": "stdout",
     "output_type": "stream",
     "text": [
      "['i', 'me', 'my', 'myself', 'we', 'our', 'ours', 'ourselves', 'you', \"you're\", \"you've\", \"you'll\", \"you'd\", 'your', 'yours', 'yourself', 'yourselves', 'he', 'him', 'his', 'himself', 'she', \"she's\", 'her', 'hers', 'herself', 'it', \"it's\", 'its', 'itself', 'they', 'them', 'their', 'theirs', 'themselves', 'what', 'which', 'who', 'whom', 'this', 'that', \"that'll\", 'these', 'those', 'am', 'is', 'are', 'was', 'were', 'be', 'been', 'being', 'have', 'has', 'had', 'having', 'do', 'does', 'did', 'doing', 'a', 'an', 'the', 'and', 'but', 'if', 'or', 'because', 'as', 'until', 'while', 'of', 'at', 'by', 'for', 'with', 'about', 'against', 'between', 'into', 'through', 'during', 'before', 'after', 'above', 'below', 'to', 'from', 'up', 'down', 'in', 'out', 'on', 'off', 'over', 'under', 'again', 'further', 'then', 'once', 'here', 'there', 'when', 'where', 'why', 'how', 'all', 'any', 'both', 'each', 'few', 'more', 'most', 'other', 'some', 'such', 'no', 'nor', 'not', 'only', 'own', 'same', 'so', 'than', 'too', 'very', 's', 't', 'can', 'will', 'just', 'don', \"don't\", 'should', \"should've\", 'now', 'd', 'll', 'm', 'o', 're', 've', 'y', 'ain', 'aren', \"aren't\", 'couldn', \"couldn't\", 'didn', \"didn't\", 'doesn', \"doesn't\", 'hadn', \"hadn't\", 'hasn', \"hasn't\", 'haven', \"haven't\", 'isn', \"isn't\", 'ma', 'mightn', \"mightn't\", 'mustn', \"mustn't\", 'needn', \"needn't\", 'shan', \"shan't\", 'shouldn', \"shouldn't\", 'wasn', \"wasn't\", 'weren', \"weren't\", 'won', \"won't\", 'wouldn', \"wouldn't\"]\n"
     ]
    }
   ],
   "source": [
    "print(words)"
   ]
  },
  {
   "cell_type": "code",
   "execution_count": 9,
   "id": "5b8ecec3",
   "metadata": {},
   "outputs": [],
   "source": [
    "# Training model\n",
    "from sklearn.linear_model import LogisticRegression\n",
    "log_regression = LogisticRegression()\n",
    "\n",
    "vectorizer = TfidfVectorizer(min_df= 3, stop_words=\"english\", sublinear_tf=True, norm='l2', ngram_range=(1, 2))\n",
    "\n",
    "X = data['cleaned']\n",
    "Y = data['Category']\n",
    "X_train, X_test, y_train, y_test = train_test_split(X, Y, test_size=0.25) #Splitting dataset"
   ]
  },
  {
   "cell_type": "code",
   "execution_count": 10,
   "id": "6f41b0c7",
   "metadata": {},
   "outputs": [],
   "source": [
    "#Creating Pipeline\n",
    "pipeline = Pipeline([('vect', vectorizer),\n",
    "                     ('chi',  SelectKBest(chi2, k=1200)),\n",
    "                     ('clf', LogisticRegression(random_state=0))])"
   ]
  },
  {
   "cell_type": "code",
   "execution_count": 11,
   "id": "1bbb1ab3",
   "metadata": {},
   "outputs": [
    {
     "name": "stderr",
     "output_type": "stream",
     "text": [
      "C:\\Users\\Anand\\anaconda3\\lib\\site-packages\\sklearn\\linear_model\\_logistic.py:814: ConvergenceWarning: lbfgs failed to converge (status=1):\n",
      "STOP: TOTAL NO. of ITERATIONS REACHED LIMIT.\n",
      "\n",
      "Increase the number of iterations (max_iter) or scale the data as shown in:\n",
      "    https://scikit-learn.org/stable/modules/preprocessing.html\n",
      "Please also refer to the documentation for alternative solver options:\n",
      "    https://scikit-learn.org/stable/modules/linear_model.html#logistic-regression\n",
      "  n_iter_i = _check_optimize_result(\n"
     ]
    }
   ],
   "source": [
    "#Training model\n",
    "model = pipeline.fit(X_train, y_train)"
   ]
  },
  {
   "cell_type": "code",
   "execution_count": 16,
   "id": "14067f58",
   "metadata": {},
   "outputs": [],
   "source": [
    "with open('LogisticRegression.pickle', 'wb') as f:\n",
    "    pickle.dump(model, f)"
   ]
  },
  {
   "cell_type": "code",
   "execution_count": 12,
   "id": "e31ac6a3",
   "metadata": {},
   "outputs": [
    {
     "name": "stdout",
     "output_type": "stream",
     "text": [
      "0.8345431789737171\n",
      "\n",
      "\n",
      "['political' 'social' 'political' ... 'political' 'political' 'social']\n"
     ]
    }
   ],
   "source": [
    "#Accuracy\n",
    "from sklearn.metrics import accuracy_score\n",
    "predict = model.predict(X_test)\n",
    "print(accuracy_score(y_test,predict))\n",
    "print('\\n')\n",
    "print(predict)"
   ]
  },
  {
   "cell_type": "code",
   "execution_count": 13,
   "id": "4dac97b8",
   "metadata": {},
   "outputs": [
    {
     "name": "stdout",
     "output_type": "stream",
     "text": [
      "Enter any news Anurag Maloo, who went missing on Monday, was found in a critical condition by rescuers.  Two other Indian climbers were rescued on Tuesday, while an Irish climber died while descending Annapurna.  It is the 10th highest mountain in the world and is known for its treacherous terrain.  Mr Maloo is currently seeking treatment at Manipal Hospital in Pokhara city, a sherpa from Seven Summit Treks - a mountaineering company that led the search operation - told India's ANI news agency.  Amit Chowdhury, a board member at the UIAA - the international mountaineering and climbing federation based in Switzerland - told the BBC that it was possible for climbers to survive after falling into a crevasse.  \"A crevasse is warmer and well protected from wind. So if he was not badly injured, it's not unusual that he survived in a crevasse,\" he said.  A resident of Rajasthan state, Mr Maloo, went missing at around 6,000m (19,600ft) while descending from a camp.  \"While coming down, he slipped and fell into a crevasse between Camp III and Camp II,\" his father Om Prakash told Indian Express newspaper.  Hi brother, Aashish, had launched an online petition urging the Indian and Nepalese governments to send a special rescue team that \"is trained to operate in such risky terrain\" to find Mr Maloo.  \"A team of sherpas have started the search operation but that's not enough at the moment,\" the petition said.  Last year, Mr Maloo successfully climbed a mountain in the eastern Himalayan range in Nepal. He was on a mission to climb all 14 peaks above 8,000m and scale the world's seven summits - the highest mountains in each continent - to create awareness about the UN's Sustainable Development Goals.  On Tuesday, authorities rescued climber Baljeet Kaur and four other climbers from the high camps of the mountain.  In November, Ms Kaur became the first Indian woman to summit Mount Manaslu in Nepal without using oxygen.\n",
      "\n",
      "\n",
      "social\n"
     ]
    }
   ],
   "source": [
    "real_news = input(\"Enter any news \")\n",
    "realtime_news = pd.DataFrame({'real_news':[real_news]})\n",
    "#Accuracy\n",
    "from sklearn.metrics import accuracy_score\n",
    "predict = model.predict(realtime_news['real_news'])\n",
    "\n",
    "print('\\n')\n",
    "print(predict[0])"
   ]
  },
  {
   "cell_type": "code",
   "execution_count": 14,
   "id": "347eb7e9",
   "metadata": {},
   "outputs": [
    {
     "name": "stderr",
     "output_type": "stream",
     "text": [
      "C:\\Users\\Anand\\anaconda3\\lib\\site-packages\\sklearn\\metrics\\_classification.py:1318: UndefinedMetricWarning: Precision and F-score are ill-defined and being set to 0.0 in labels with no predicted samples. Use `zero_division` parameter to control this behavior.\n",
      "  _warn_prf(average, modifier, msg_start, len(result))\n",
      "C:\\Users\\Anand\\anaconda3\\lib\\site-packages\\sklearn\\metrics\\_classification.py:1318: UndefinedMetricWarning: Precision and F-score are ill-defined and being set to 0.0 in labels with no predicted samples. Use `zero_division` parameter to control this behavior.\n",
      "  _warn_prf(average, modifier, msg_start, len(result))\n",
      "C:\\Users\\Anand\\anaconda3\\lib\\site-packages\\sklearn\\metrics\\_classification.py:1318: UndefinedMetricWarning: Precision and F-score are ill-defined and being set to 0.0 in labels with no predicted samples. Use `zero_division` parameter to control this behavior.\n",
      "  _warn_prf(average, modifier, msg_start, len(result))\n"
     ]
    },
    {
     "name": "stdout",
     "output_type": "stream",
     "text": [
      "               precision    recall  f1-score   support\n",
      "\n",
      "International       1.00      0.78      0.88       651\n",
      "         blog       1.00      0.95      0.98       574\n",
      "entertainment       0.00      0.00      0.00        30\n",
      "       market       1.00      1.00      1.00       267\n",
      "    political       0.79      0.78      0.79      2847\n",
      "       social       0.74      0.82      0.78      2600\n",
      "       sports       1.00      0.97      0.98       516\n",
      "         view       1.00      0.96      0.98       505\n",
      "\n",
      "     accuracy                           0.83      7990\n",
      "    macro avg       0.82      0.78      0.80      7990\n",
      " weighted avg       0.84      0.83      0.83      7990\n",
      "\n",
      "[[ 510    0    0    0   79   62    0    0]\n",
      " [   0  548    0    0    5   21    0    0]\n",
      " [   0    0    0    0    4   26    0    0]\n",
      " [   0    0    0  267    0    0    0    0]\n",
      " [   0    0    0    0 2233  614    0    0]\n",
      " [   0    0    0    0  473 2127    0    0]\n",
      " [   0    0    0    0    4   14  498    0]\n",
      " [   0    0    0    0   11    9    0  485]]\n"
     ]
    }
   ],
   "source": [
    "# confusion matrix and classification report(precision, recall, F1-score)\n",
    "ytest = np.array(y_test)\n",
    "print(classification_report(ytest, model.predict(X_test)))\n",
    "print(confusion_matrix(ytest, model.predict(X_test)))"
   ]
  },
  {
   "cell_type": "code",
   "execution_count": null,
   "id": "6f874aa0",
   "metadata": {},
   "outputs": [],
   "source": []
  }
 ],
 "metadata": {
  "kernelspec": {
   "display_name": "Python 3 (ipykernel)",
   "language": "python",
   "name": "python3"
  },
  "language_info": {
   "codemirror_mode": {
    "name": "ipython",
    "version": 3
   },
   "file_extension": ".py",
   "mimetype": "text/x-python",
   "name": "python",
   "nbconvert_exporter": "python",
   "pygments_lexer": "ipython3",
   "version": "3.9.13"
  }
 },
 "nbformat": 4,
 "nbformat_minor": 5
}
